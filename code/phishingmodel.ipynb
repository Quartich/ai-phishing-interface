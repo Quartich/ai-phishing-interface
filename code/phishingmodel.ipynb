{
 "cells": [
  {
   "cell_type": "code",
   "execution_count": null,
   "id": "8cbd40f7-34f3-4a18-95c5-04d2ad2a5b3f",
   "metadata": {},
   "outputs": [],
   "source": [
    "import pandas as pd\n",
    "import numpy as np\n",
    "import tensorflow as tf\n",
    "from tensorflow import keras\n",
    "from tensorflow.keras.preprocessing.text import Tokenizer\n",
    "from tensorflow.keras.preprocessing.sequence import pad_sequences\n",
    "from sklearn.model_selection import train_test_split\n",
    "import os\n",
    "import json\n",
    "\n",
    "gpus = tf.config.list_physical_devices('GPU')#ensure you have gpu\n",
    "print(f\"GPU available: {gpus}\")\n",
    "tf.config.experimental.set_memory_growth(gpus[0], True)"
   ]
  },
  {
   "cell_type": "code",
   "execution_count": null,
   "id": "ddd9ed4c-534b-4db1-8060-ce27f3a8077d",
   "metadata": {},
   "outputs": [],
   "source": [
    "file_path = \"Phishing_Email.csv\"\n",
    "df = pd.read_csv(file_path)"
   ]
  },
  {
   "cell_type": "code",
   "execution_count": null,
   "id": "43c94941-6a2a-46a7-bfcf-2e74d72b1f19",
   "metadata": {},
   "outputs": [],
   "source": [
    "#columns are ID, email_text, email_type\n",
    "df = df.sample(frac=1, random_state=42).reset_index(drop=True)\n",
    "df['email_type'] = df['email_type'].map({'Safe Email': 0, 'Phishing Email': 1})\n",
    "\n",
    "df = df.iloc[:72000] #i want 9000 emails max, but the dataset has 94000\n",
    "\n",
    "#this all splits between training, test, and validation\n",
    "train_texts, temp_texts, train_labels, temp_labels = train_test_split(\n",
    "    df['email_text'], df['email_type'], test_size=0.33, random_state=42\n",
    ")\n",
    "val_texts, test_texts, val_labels, test_labels = train_test_split(\n",
    "    temp_texts, temp_labels, test_size=0.5, random_state=42\n",
    ")\n",
    "\n",
    "#dataset has a lot of nulls, this fixes them\n",
    "train_texts = train_texts.astype(str)\n",
    "val_texts = val_texts.astype(str)\n",
    "test_texts = test_texts.astype(str)\n",
    "df['email_text'] = df['email_text'].fillna(\"\").astype(str)\n",
    "print(train_texts.head())\n",
    "print(type(train_texts.iloc[0]))"
   ]
  },
  {
   "cell_type": "code",
   "execution_count": null,
   "id": "afb56f30-18e5-4add-9068-f3b0dcc244db",
   "metadata": {},
   "outputs": [],
   "source": [
    "max_vocab_size = 20000\n",
    "max_length = 500\n",
    "tokenizer = Tokenizer(num_words=max_vocab_size, oov_token=\"<OOV>\")\n",
    "tokenizer.fit_on_texts(train_texts)\n",
    "\n",
    "train_sequences = tokenizer.texts_to_sequences(train_texts)\n",
    "val_sequences = tokenizer.texts_to_sequences(val_texts)\n",
    "test_sequences = tokenizer.texts_to_sequences(test_texts)\n",
    "\n",
    "train_padded = pad_sequences(train_sequences, maxlen=max_length, padding='post', truncating='post')\n",
    "val_padded = pad_sequences(val_sequences, maxlen=max_length, padding='post', truncating='post')\n",
    "test_padded = pad_sequences(test_sequences, maxlen=max_length, padding='post', truncating='post')"
   ]
  },
  {
   "cell_type": "code",
   "execution_count": null,
   "id": "02bad1ed-7af3-4b00-9ebe-e34bfa34d18b",
   "metadata": {
    "scrolled": true
   },
   "outputs": [],
   "source": [
    "train_labels = np.array(train_labels)#numpy arrays\n",
    "val_labels = np.array(val_labels)\n",
    "test_labels = np.array(test_labels)\n",
    "\n",
    "model = tf.keras.Sequential([#this is an lstm\n",
    "    tf.keras.layers.Embedding(input_dim=max_vocab_size, output_dim=128, input_length=max_length),\n",
    "    tf.keras.layers.Bidirectional(tf.keras.layers.LSTM(128, return_sequences=True)),  \n",
    "    tf.keras.layers.Bidirectional(tf.keras.layers.LSTM(64)),  \n",
    "    tf.keras.layers.Dense(128, activation='relu'),  \n",
    "    tf.keras.layers.Dropout(0.5),#both dropout layers help with overfitting\n",
    "    tf.keras.layers.Dense(64, activation='relu'),  \n",
    "    tf.keras.layers.Dropout(0.3),\n",
    "    tf.keras.layers.Dense(1, activation='sigmoid')#output from 0 to 1\n",
    "])\n",
    "\n",
    "model.compile(loss='binary_crossentropy', optimizer='adam', metrics=['accuracy'])\n",
    "\n",
    "model.build(input_shape=(None, max_length))\n",
    "\n",
    "model.summary()"
   ]
  },
  {
   "cell_type": "code",
   "execution_count": null,
   "id": "32afdeaf-7876-43e2-8009-ca63f9e8f97d",
   "metadata": {},
   "outputs": [],
   "source": [
    "epochs = 10\n",
    "batch_size = 32\n",
    "\n",
    "history = model.fit(train_padded, train_labels, epochs=10, validation_data=(val_padded, val_labels), verbose=1)\n",
    "\n",
    "model.save(\"phishing_model.h5\")#save model\n",
    "print(\"Model saved as phishing_model.h5\")\n",
    "\n",
    "tokenizer_json = tokenizer.to_json()#save tokenizer\n",
    "with open(\"tokenizer.json\", \"w\") as f:\n",
    "    f.write(tokenizer_json)\n",
    "\n",
    "if os.path.exists(\"phishing_model.h5\"):#reload if you want to train existing model\n",
    "    model = keras.models.load_model(\"phishing_model.h5\")\n",
    "    print(\"Model loaded for further training.\")\n",
    "\n",
    "#evaluate on test\n",
    "test_loss, test_acc = model.evaluate(test_padded, test_labels, verbose=1)\n",
    "print(f\"Test Accuracy: {test_acc * 100:.2f}%\")"
   ]
  }
 ],
 "metadata": {
  "kernelspec": {
   "display_name": "Python 3 (ipykernel)",
   "language": "python",
   "name": "python3"
  },
  "language_info": {
   "codemirror_mode": {
    "name": "ipython",
    "version": 3
   },
   "file_extension": ".py",
   "mimetype": "text/x-python",
   "name": "python",
   "nbconvert_exporter": "python",
   "pygments_lexer": "ipython3",
   "version": "3.10.12"
  }
 },
 "nbformat": 4,
 "nbformat_minor": 5
}
